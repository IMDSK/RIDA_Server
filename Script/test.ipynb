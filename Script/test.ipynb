{
 "cells": [
  {
   "cell_type": "code",
   "execution_count": 1,
   "metadata": {},
   "outputs": [
    {
     "ename": "ModuleNotFoundError",
     "evalue": "No module named 'Server_Module'",
     "output_type": "error",
     "traceback": [
      "\u001b[1;31m---------------------------------------------------------------------------\u001b[0m",
      "\u001b[1;31mModuleNotFoundError\u001b[0m                       Traceback (most recent call last)",
      "Cell \u001b[1;32mIn[1], line 20\u001b[0m\n\u001b[0;32m     17\u001b[0m \u001b[38;5;28;01mimport\u001b[39;00m \u001b[38;5;21;01mlogging\u001b[39;00m\n\u001b[0;32m     19\u001b[0m \u001b[38;5;28;01mfrom\u001b[39;00m \u001b[38;5;21;01mimage_processing\u001b[39;00m \u001b[38;5;28;01mimport\u001b[39;00m server_predict\n\u001b[1;32m---> 20\u001b[0m \u001b[38;5;28;01mimport\u001b[39;00m \u001b[38;5;21;01mServer_Module\u001b[39;00m \u001b[38;5;66;03m# Python Module\u001b[39;00m\n\u001b[0;32m     24\u001b[0m \u001b[38;5;66;03m# Setup logging\u001b[39;00m\n\u001b[0;32m     25\u001b[0m logging\u001b[38;5;241m.\u001b[39mbasicConfig(level\u001b[38;5;241m=\u001b[39mlogging\u001b[38;5;241m.\u001b[39mINFO, \u001b[38;5;28mformat\u001b[39m\u001b[38;5;241m=\u001b[39m\u001b[38;5;124m'\u001b[39m\u001b[38;5;132;01m%(asctime)s\u001b[39;00m\u001b[38;5;124m - \u001b[39m\u001b[38;5;132;01m%(asctime)s\u001b[39;00m\u001b[38;5;124m - \u001b[39m\u001b[38;5;132;01m%(levelname)s\u001b[39;00m\u001b[38;5;124m - \u001b[39m\u001b[38;5;132;01m%(message)s\u001b[39;00m\u001b[38;5;124m'\u001b[39m)\n",
      "\u001b[1;31mModuleNotFoundError\u001b[0m: No module named 'Server_Module'"
     ]
    }
   ],
   "source": [
    "import pandas as pd\n",
    "import numpy as np\n",
    "import matplotlib.pyplot as plt\n",
    "import pickle\n",
    "import os\n",
    "import geopandas as gpd\n",
    "import reverse_geocoder as rg\n",
    "import pycountry\n",
    "import pymysql\n",
    "from shapely.geometry import MultiPoint\n",
    "from collections import Counter\n",
    "from IPython.display import display\n",
    "from sklearn import metrics\n",
    "from sklearn.metrics import silhouette_score\n",
    "from sklearn.cluster import KMeans, DBSCAN\n",
    "from sqlalchemy import create_engine\n",
    "import logging\n",
    "\n",
    "from image_processing import server_predict\n",
    "# import Server_Module # Python Module\n",
    "\n",
    "\n",
    "\n",
    "# Setup logging\n",
    "logging.basicConfig(level=logging.INFO, format='%(asctime)s - %(asctime)s - %(levelname)s - %(message)s')\n",
    "logger = logging.getLogger()\n",
    "\n",
    "\n",
    "def main():\n",
    "\n",
    "    folder_path = ['D:\\\\RIDA_Server\\\\Satellite_Image\\\\T48QUH', 'D:\\\\RIDA_Server\\\\Satellite_Image\\\\T48QUT']\n",
    "    output_folder_after = \"D:\\\\RIDA_Server\\\\Script\\\\Sentinel_Process\\\\Image\"\n",
    "\n",
    "    server_predict(folder_path, output_folder_after)\n",
    "\n",
    "    # # Define the directory containing CSV files\n",
    "    # data_dir = r\"D:\\Work\\Code งาน\\Lab-docker\\RIDA\\RIDA_CSV\\Predict\\All_Predict\"\n",
    "\n",
    "    # # Loop through all files in the directory\n",
    "    # for filename in os.listdir(data_dir):\n",
    "    #     if filename.endswith(\".csv\"):\n",
    "    #     # Construct the full path to the CSV file\n",
    "    #         data_path = os.path.join(data_dir, filename)\n",
    "\n",
    "    #         # Perform Prerpocessing\n",
    "    #         df = pd.read_csv(data_path) # Read CSV in specify directory\n",
    "    #         scaler_path = (r'D:\\Work\\Code งาน\\Lab-docker\\RIDA\\Export Model\\04-06-2024\\min_max_scaler.pkl') # Directory to Mormalization Pickle File\n",
    "    #         df_rename, lat, long, fire_date = Server_Module.preprocess(df, scaler_path) # Call Preprocessing Function\n",
    "\n",
    "    #         # Load Model\n",
    "\n",
    "\n",
    "if __name__ == \"__main__\":\n",
    "    main()"
   ]
  },
  {
   "cell_type": "markdown",
   "metadata": {},
   "source": []
  }
 ],
 "metadata": {
  "kernelspec": {
   "display_name": "RIDA_env",
   "language": "python",
   "name": "python3"
  },
  "language_info": {
   "codemirror_mode": {
    "name": "ipython",
    "version": 3
   },
   "file_extension": ".py",
   "mimetype": "text/x-python",
   "name": "python",
   "nbconvert_exporter": "python",
   "pygments_lexer": "ipython3",
   "version": "3.11.9"
  }
 },
 "nbformat": 4,
 "nbformat_minor": 2
}
